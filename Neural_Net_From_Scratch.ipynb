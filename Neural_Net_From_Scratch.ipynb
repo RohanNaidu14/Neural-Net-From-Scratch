{
 "cells": [
  {
   "cell_type": "markdown",
   "metadata": {},
   "source": [
    "## Neural Net(MLP) From Scratch - L Rohan  "
   ]
  },
  {
   "cell_type": "markdown",
   "metadata": {},
   "source": [
    "## Objective\n",
    "\n",
    "- We will see the neural net given below, find out all the respective partial derivatives and these derivatives will go into our backprop function to find the new weights\n",
    "- for forward prop we just the calculate the final expression from the given neural net and apply our loss after performing for forward prop for each data point in our dataset\n",
    "- i am hoping that you know that when i say data point in the dataset i mean data point's features or cols will be passed in out forward and backward prop to do the appropriate caluclations"
   ]
  },
  {
   "cell_type": "markdown",
   "metadata": {},
   "source": [
    "## Back Propagation"
   ]
  },
  {
   "cell_type": "markdown",
   "metadata": {},
   "source": [
    "<img src='https://i.imgur.com/seSGbNS.png'>"
   ]
  },
  {
   "cell_type": "markdown",
   "metadata": {},
   "source": [
    "<pre>\n",
    "1. if you observe the graph, we are having input features [f1, f2, f3, f4, f5] and 9 weights [w1, w2, w3, w4, w5, w6,    w7, w8, w9]\n",
    "2. the final output of this graph is a value L which is computed as (Y-Y')^2\n",
    "</pre>"
   ]
  },
  {
   "cell_type": "code",
   "execution_count": 1,
   "metadata": {},
   "outputs": [
    {
     "name": "stdout",
     "output_type": "stream",
     "text": [
      "(506, 6)\n",
      "(506, 5) (506,)\n"
     ]
    }
   ],
   "source": [
    "import pickle\n",
    "with open('data.pkl', 'rb') as f:\n",
    "    data = pickle.load(f)\n",
    "print(data.shape)\n",
    "X = data[:, :5]                                                   \n",
    "y = data[:, -1]\n",
    "print(X.shape, y.shape)"
   ]
  },
  {
   "cell_type": "code",
   "execution_count": 2,
   "metadata": {},
   "outputs": [],
   "source": [
    "# running all the libraries\n",
    "\n",
    "import numpy as np\n",
    "import random\n",
    "from tqdm import tqdm\n",
    "from sklearn.metrics import mean_squared_error as mse\n",
    "from matplotlib import pyplot as plt\n",
    "from tqdm import tqdm\n",
    "from sklearn.metrics import mean_squared_error as mse"
   ]
  },
  {
   "cell_type": "markdown",
   "metadata": {},
   "source": [
    "### Task 1 "
   ]
  },
  {
   "cell_type": "code",
   "execution_count": 3,
   "metadata": {},
   "outputs": [],
   "source": [
    "def sigmoid(x, w):\n",
    "    z = (np.sin(x[2] * w[2]) * ((x[3]*w[3]) + (x[4]*w[4])) + w[7])\n",
    "    ans = 1 / (1 + np.exp(-z))\n",
    "    \n",
    "    return ans"
   ]
  },
  {
   "cell_type": "code",
   "execution_count": 4,
   "metadata": {},
   "outputs": [],
   "source": [
    "def get_dict(x, y, y_pr, w):\n",
    "    \n",
    "    my_di = {'dL/dy_pr': -2*(y-y_pr), 'dy_pr/d_tanh_op': 1, \n",
    "              'd_tanh_op/d_+_op': 1 - ((np.tanh(w[6]+np.exp(((x[0]*w[0]) + (x[1]*w[1]))**2 + w[5])))*\n",
    "              (np.tanh(w[6]+np.exp(((x[0]*w[0]) + (x[1]*w[1]))**2 + w[5])))), \n",
    "              'd_+_op/d_w7': 1, 'd_+_op/d_exp_op': 1, \n",
    "              'd_exp_op/d_+_op': np.exp(((x[0]*w[0]) + (x[1]*w[1]))**2 + w[5]), \n",
    "              'd_+_op/d_w6': 1, 'd_+_op/d_*_op': 1, 'd_*_op/d_+_op': 2*((x[0]*w[0]) + (x[1]*w[1])), \n",
    "              'd_*_op/d_w1': x[0], 'd_*_op/d_w2': x[1], 'dy_pr/d_*_op': 1, \n",
    "              'd_*_op/d_w9': sigmoid(x, w), \n",
    "              'd_*_op/d_sig_op': w[8], 'd_sig_op/d_+_op': sigmoid(x, w) * (1 - sigmoid(x, w)),\n",
    "              'd_+_op/d_w8': 1, 'd_*_op/d_sin_op': (x[3]*w[3]) + (x[4]*w[4]), \n",
    "              'd_sin_op/d_*_op': np.cos(x[2]*w[2]), 'd_*_op/d_w3': x[2], \n",
    "              'd_*_op/d_++_op': np.sin(x[2]*w[2]), 'd_*_op/d_w4': x[3], \n",
    "              'd_*_op/d_w5': x[4]}\n",
    "    \n",
    "    return my_di"
   ]
  },
  {
   "cell_type": "markdown",
   "metadata": {},
   "source": [
    "### Dictionary\n",
    "\n",
    "- creating a dictionary is very important as it will help us in our backward prop\n",
    "- the whole idea of backward prop was to save time and space and for that we will store our partial derivatives in our dictionary above \n",
    "- i request to calculate your own derivatives for each weight from the neural net picture above and store the intermeditate derivatives which is used in derivatives of more than one weights in the dictionary above\n",
    "- this helps us in not calculating it again and again \n",
    "- each and every key in our dictionary is partial derivative"
   ]
  },
  {
   "cell_type": "code",
   "execution_count": 5,
   "metadata": {},
   "outputs": [],
   "source": [
    "def forward_prop(x, y, w):\n",
    "    \"\"\"\n",
    "        this function calculates loss for a single data point \n",
    "    \n",
    "    \"\"\"\n",
    "    lhs = np.tanh(np.exp((x[0]*w[0] + x[1]*w[1])**2 + w[5]) + w[6])\n",
    "    rhs = sigmoid(x, w) * w[8]\n",
    "    y_pred = lhs + rhs\n",
    "    reg_loss = (y - y_pred)**2\n",
    "    \n",
    "    our_var_di = get_dict(x, y, y_pred, w)\n",
    "    \n",
    "#     var_di = get_dict(x, w)\n",
    "    \n",
    "    return reg_loss, our_var_di, y_pred"
   ]
  },
  {
   "cell_type": "code",
   "execution_count": 6,
   "metadata": {},
   "outputs": [],
   "source": [
    "def our_back_prop(di):\n",
    "    grads=[]\n",
    "    \n",
    "    w_0=(di['d_tanh_op/d_+_op']*di['d_exp_op/d_+_op']*di['d_*_op/d_+_op']*di['d_*_op/d_w1'])\n",
    "    grads.append(w_0)\n",
    "    \n",
    "    w_1=(di['d_tanh_op/d_+_op']*di['d_exp_op/d_+_op']*di['d_*_op/d_+_op']*di['d_*_op/d_w2'])\n",
    "    grads.append(w_1)\n",
    "    \n",
    "    w_2=(di['dy_pr/d_*_op']*di['d_*_op/d_sig_op']*di['d_sig_op/d_+_op']*di['d_+_op/d_*_op']*di['d_*_op/d_sin_op']*\n",
    "         di['d_sin_op/d_*_op']*di['d_*_op/d_w3'])\n",
    "    grads.append(w_2)\n",
    "    \n",
    "    w_3=(di['dy_pr/d_*_op']*di['d_*_op/d_sig_op']*di['d_sig_op/d_+_op']*di['d_+_op/d_*_op']*di['d_*_op/d_++_op']*\n",
    "          di['d_+_op/d_*_op']*di['d_*_op/d_w4'])\n",
    "    grads.append(w_3)\n",
    "    \n",
    "    w_4=(di['dy_pr/d_*_op']*di['d_*_op/d_sig_op']*di['d_sig_op/d_+_op']*di['d_+_op/d_*_op']*di['d_*_op/d_++_op']*\n",
    "          di['d_+_op/d_*_op']*di['d_*_op/d_w5'])\n",
    "    grads.append(w_4)\n",
    "    \n",
    "    w_5=(di['dy_pr/d_tanh_op']*di['d_tanh_op/d_+_op']*di['d_+_op/d_exp_op']*di['d_exp_op/d_+_op']*\n",
    "         di['d_+_op/d_w6'])\n",
    "    grads.append(w_5)\n",
    "    \n",
    "    w_6=(di['dy_pr/d_tanh_op']*di['d_tanh_op/d_+_op']*di['d_+_op/d_w7'])\n",
    "    grads.append(w_6)\n",
    "    \n",
    "    w_7=(di['dy_pr/d_*_op']*di['d_*_op/d_sig_op']*di['d_sig_op/d_+_op']*di['d_+_op/d_w8'])\n",
    "    grads.append(w_7)\n",
    "    \n",
    "    w_8=(di['dy_pr/d_*_op']*di['d_*_op/d_w9'])\n",
    "    grads.append(w_8)\n",
    "    \n",
    "    return grads"
   ]
  },
  {
   "cell_type": "markdown",
   "metadata": {},
   "source": [
    "### backprop\n",
    "\n",
    "- as you can see above for each weight i have written my partial derivative which i have calulated by hand from the neural net"
   ]
  },
  {
   "cell_type": "code",
   "execution_count": 7,
   "metadata": {},
   "outputs": [],
   "source": [
    "# # testing our back_prop\n",
    "\n",
    "# test_w = np.array([0.23796463, 0.54422923, 0.36995517, 0.60392004, 0.6257203 ,\n",
    "#        0.06552886, 0.01316799, 0.83746908, 0.25935401])\n",
    "\n",
    "# loss, my_dic, my_y_pred = forward_prop(X[0], y[0], test_w)\n",
    "# my_grads = our_back_prop(my_dic)\n",
    "\n",
    "# print(loss, my_y_pred)\n",
    "# print(my_grads)"
   ]
  },
  {
   "cell_type": "code",
   "execution_count": 8,
   "metadata": {},
   "outputs": [],
   "source": [
    "def update_weights(w, j, e):\n",
    "    w_pos = []\n",
    "    w_neg = []\n",
    "    for i in range(len(w)):\n",
    "        if(i==j):\n",
    "            w_pos.append(w[i]+e)\n",
    "            w_neg.append(w[i]-e)\n",
    "        else:\n",
    "            w_pos.append(w[i])\n",
    "            w_neg.append(w[i])\n",
    "    \n",
    "    return np.array(w_pos), np.array(w_neg)"
   ]
  },
  {
   "cell_type": "code",
   "execution_count": 9,
   "metadata": {},
   "outputs": [],
   "source": [
    "# for j in range(len(test_w)):\n",
    "#     pos, neg = update_weights(test_w, j, e=1e-7)\n",
    "#     print(pos)\n",
    "#     print(neg)\n",
    "#     print(\"=\"*30)"
   ]
  },
  {
   "cell_type": "code",
   "execution_count": 10,
   "metadata": {},
   "outputs": [],
   "source": [
    "def gradient_checking(x, y, w, e):\n",
    "    loss, my_dic, my_y_pred = forward_prop(x, y, w)\n",
    "    grad = our_back_prop(my_dic)\n",
    "    \n",
    "    grad_approx_ls = []\n",
    "    for i in range(len(w)):\n",
    "        w_1, w_2 = update_weights(w, i, e)\n",
    "        loss_1, my_dic_1, y_pred_1 = forward_prop(x, y, w_1)\n",
    "        loss_2, my_dic_2, y_pred_2 = forward_prop(x, y, w_2)\n",
    "#         print('loss1: {0}, loss2: {1}'.format(y_pred_1, y_pred_2))\n",
    "        grad_approx=(y_pred_1-y_pred_2)/(2*e)\n",
    "        grad_approx_ls.append(grad_approx)\n",
    "#         print('grad_approx', grad_approx)\n",
    "#         num=np.linalg.norm(grad-grad_approx)\n",
    "#         den=np.linalg.norm(grad)+np.linalg.norm(grad_approx)\n",
    "#         difference=num/den\n",
    "    \n",
    "    \n",
    "    for j in range(len(w)):\n",
    "        num = np.linalg.norm(grad[j] - grad_approx_ls[j])\n",
    "        denom = np.linalg.norm(grad[j]) + np.linalg.norm(grad_approx_ls[j])\n",
    "        checked = num / denom \n",
    "        \n",
    "        if checked <= 1e-7:\n",
    "            print('weight {0} is correct: {1}'.format(j+1, checked))\n",
    "        else:\n",
    "            print('weight {0} is in-correct: {1}'.format(j+1, checked))\n",
    "        "
   ]
  },
  {
   "cell_type": "markdown",
   "metadata": {},
   "source": [
    "### gradient checknig \n",
    "- it is very important and tells us if our weights are correct or not and if not we have made a mistake in our calculations of our derivatives"
   ]
  },
  {
   "cell_type": "code",
   "execution_count": 11,
   "metadata": {},
   "outputs": [],
   "source": [
    "def init_weights():\n",
    "    random.seed(3)\n",
    "    w =[]\n",
    "    for i in range(9):\n",
    "        w.append(random.uniform(0,1))\n",
    "        \n",
    "        \n",
    "    return np.array(w)"
   ]
  },
  {
   "cell_type": "code",
   "execution_count": 12,
   "metadata": {},
   "outputs": [
    {
     "data": {
      "text/plain": [
       "array([0.23796463, 0.54422923, 0.36995517, 0.60392004, 0.6257203 ,\n",
       "       0.06552886, 0.01316799, 0.83746908, 0.25935401])"
      ]
     },
     "execution_count": 12,
     "metadata": {},
     "output_type": "execute_result"
    }
   ],
   "source": [
    "weights = init_weights()\n",
    "\n",
    "weights"
   ]
  },
  {
   "cell_type": "code",
   "execution_count": 13,
   "metadata": {},
   "outputs": [
    {
     "name": "stdout",
     "output_type": "stream",
     "text": [
      "weight 1 is correct: 6.76126152749488e-11\n",
      "weight 2 is correct: 6.171609967754819e-09\n",
      "weight 3 is correct: 1.0751353249967449e-09\n",
      "weight 4 is correct: 1.586788074733842e-08\n",
      "weight 5 is correct: 2.141209937274392e-08\n",
      "weight 6 is correct: 8.67101855038544e-13\n",
      "weight 7 is correct: 4.0151299583809133e-10\n",
      "weight 8 is correct: 3.172831924446384e-09\n",
      "weight 9 is correct: 2.908197556086923e-10\n"
     ]
    }
   ],
   "source": [
    "checked_grads = gradient_checking(X[0], y[0], weights, 1e-7)"
   ]
  },
  {
   "cell_type": "markdown",
   "metadata": {},
   "source": [
    "### Task 2: SGD "
   ]
  },
  {
   "cell_type": "code",
   "execution_count": 14,
   "metadata": {},
   "outputs": [],
   "source": [
    "def sgd_get_dict(x, y, y_pr, w):\n",
    "    \n",
    "    my_di = {'dL/dy_pr': -2*(y-y_pr), 'dy_pr/d_tanh_op': 1, \n",
    "              'd_tanh_op/d_+_op': 1 - ((np.tanh(w[6]+np.exp(((x[0]*w[0]) + (x[1]*w[1]))**2 + w[5])))*\n",
    "              (np.tanh(w[6]+np.exp(((x[0]*w[0]) + (x[1]*w[1]))**2 + w[5])))), \n",
    "              'd_+_op/d_w7': 1, 'd_+_op/d_exp_op': 1, \n",
    "              'd_exp_op/d_+_op': np.exp(((x[0]*w[0]) + (x[1]*w[1]))**2 + w[5]), \n",
    "              'd_+_op/d_w6': 1, 'd_+_op/d_*_op': 1, 'd_*_op/d_+_op': 2*((x[0]*w[0]) + (x[1]*w[1])), \n",
    "              'd_*_op/d_w1': x[0], 'd_*_op/d_w2': x[1], 'dy_pr/d_*_op': 1, \n",
    "              'd_*_op/d_w9': sigmoid(x, w), \n",
    "              'd_*_op/d_sig_op': w[8], 'd_sig_op/d_+_op': sigmoid(x, w) * (1 - sigmoid(x, w)),\n",
    "              'd_+_op/d_w8': 1, 'd_*_op/d_sin_op': (x[3]*w[3]) + (x[4]*w[4]), \n",
    "              'd_sin_op/d_*_op': np.cos(x[2]*w[2]), 'd_*_op/d_w3': x[2], \n",
    "              'd_*_op/d_++_op': np.sin(x[2]*w[2]), 'd_*_op/d_w4': x[3], \n",
    "              'd_*_op/d_w5': x[4]}\n",
    "    \n",
    "    return my_di\n",
    "    "
   ]
  },
  {
   "cell_type": "code",
   "execution_count": 15,
   "metadata": {},
   "outputs": [],
   "source": [
    "def sgd_forward_prop(x, y, w):\n",
    "    \"\"\"\n",
    "        this function calculates loss for a single data point \n",
    "    \n",
    "    \"\"\"\n",
    "    lhs = np.tanh(np.exp((x[0]*w[0] + x[1]*w[1])**2 + w[5]) + w[6])\n",
    "    rhs = sigmoid(x, w) * w[8]\n",
    "    y_pred = lhs + rhs\n",
    "    reg_loss = (y - y_pred)**2\n",
    "    \n",
    "    our_var_di = sgd_get_dict(x, y, y_pred, w)\n",
    "    \n",
    "#     var_di = get_dict(x, w)\n",
    "    \n",
    "    return reg_loss, our_var_di, y_pred"
   ]
  },
  {
   "cell_type": "code",
   "execution_count": 16,
   "metadata": {},
   "outputs": [],
   "source": [
    "def sgd_backward_prop(di):\n",
    "    grads=[]\n",
    "    \n",
    "    w_0=(di['dL/dy_pr']*di['dy_pr/d_tanh_op']*di['d_tanh_op/d_+_op']*di['d_+_op/d_exp_op']*di['d_exp_op/d_+_op']*\n",
    "         di['d_+_op/d_*_op']*((di['d_*_op/d_+_op']*di['d_+_op/d_*_op'])+(di['d_*_op/d_+_op']*di['d_+_op/d_*_op']))*\n",
    "         di['d_*_op/d_w1'])\n",
    "    grads.append(w_0)\n",
    "    \n",
    "    w_1=(di['dL/dy_pr']*di['dy_pr/d_tanh_op']*di['d_tanh_op/d_+_op']*di['d_+_op/d_exp_op']*di['d_exp_op/d_+_op']*\n",
    "         di['d_+_op/d_*_op']*((di['d_*_op/d_+_op']*di['d_+_op/d_*_op'])+(di['d_*_op/d_+_op']*di['d_+_op/d_*_op']))*\n",
    "         di['d_*_op/d_w2'])\n",
    "    grads.append(w_1)\n",
    "    \n",
    "    w_2=(di['dL/dy_pr']*di['dy_pr/d_*_op']*di['d_*_op/d_sig_op']*di['d_sig_op/d_+_op']*di['d_+_op/d_*_op']*di['d_*_op/d_sin_op']*\n",
    "         di['d_sin_op/d_*_op']*di['d_*_op/d_w3'])\n",
    "    grads.append(w_2)\n",
    "    \n",
    "    w_3=(di['dL/dy_pr']*di['dy_pr/d_*_op']*di['d_*_op/d_sig_op']*di['d_sig_op/d_+_op']*di['d_+_op/d_*_op']*di['d_*_op/d_++_op']*\n",
    "          di['d_+_op/d_*_op']*di['d_*_op/d_w4'])\n",
    "    grads.append(w_3)\n",
    "    \n",
    "    w_4=(di['dL/dy_pr']*di['dy_pr/d_*_op']*di['d_*_op/d_sig_op']*di['d_sig_op/d_+_op']*di['d_+_op/d_*_op']*di['d_*_op/d_++_op']*\n",
    "          di['d_+_op/d_*_op']*di['d_*_op/d_w5'])\n",
    "    grads.append(w_4)\n",
    "    \n",
    "    w_5=(di['dL/dy_pr']*di['dy_pr/d_tanh_op']*di['d_tanh_op/d_+_op']*di['d_+_op/d_exp_op']*di['d_exp_op/d_+_op']*\n",
    "         di['d_+_op/d_w6'])\n",
    "    grads.append(w_5)\n",
    "    \n",
    "    w_6=(di['dL/dy_pr']*di['dy_pr/d_tanh_op']*di['d_tanh_op/d_+_op']*di['d_+_op/d_w7'])\n",
    "    grads.append(w_6)\n",
    "    \n",
    "    w_7=(di['dL/dy_pr']*di['dy_pr/d_*_op']*di['d_*_op/d_sig_op']*di['d_sig_op/d_+_op']*di['d_+_op/d_w8'])\n",
    "    grads.append(w_7)\n",
    "    \n",
    "    w_8=(di['dL/dy_pr']*di['dy_pr/d_*_op']*di['d_*_op/d_w9'])\n",
    "    grads.append(w_8)\n",
    "    \n",
    "    return grads\n",
    "    "
   ]
  },
  {
   "cell_type": "code",
   "execution_count": 17,
   "metadata": {
    "scrolled": false
   },
   "outputs": [],
   "source": [
    "def sgd_vanilla(x, y, epoch, learning_rate):\n",
    "    w = [np.random.uniform(-0.01, 0.01) for i in range(9)]\n",
    "    our_loss = []\n",
    "    epoch_ls = []\n",
    "    for i in range(epoch):\n",
    "        epoch_ls.append(i)\n",
    "        w_o = w\n",
    "        epoch_y_pred=[]\n",
    "        for j in range(len(x)):\n",
    "            loss, my_dict,y_pred = sgd_forward_prop(x[j], y[j], w_o)\n",
    "            my_grad = sgd_backward_prop(my_dict)\n",
    "            \n",
    "            for k in range(len(w)):\n",
    "                w[k] += -learning_rate * my_grad[k]\n",
    "            \n",
    "            epoch_y_pred.append(y_pred)\n",
    "        \n",
    "        epoch_loss = mse(y, epoch_y_pred)\n",
    "        our_loss.append(epoch_loss)\n",
    "#         print('Epoch: {0}, The loss: {1}'.format(i, epoch_loss))    \n",
    "            \n",
    "                \n",
    "    return w, our_loss, epoch_ls"
   ]
  },
  {
   "cell_type": "markdown",
   "metadata": {},
   "source": [
    "### SGD with Vanilla Optimization "
   ]
  },
  {
   "cell_type": "code",
   "execution_count": 18,
   "metadata": {},
   "outputs": [],
   "source": [
    "v_w, v_loss, v_epochs = sgd_vanilla(X, y, epoch=70, learning_rate=0.0001)"
   ]
  },
  {
   "cell_type": "code",
   "execution_count": 19,
   "metadata": {},
   "outputs": [
    {
     "data": {
      "image/png": "[encoded data removed]",
      "text/plain": [
       "<Figure size 432x288 with 1 Axes>"
      ]
     },
     "metadata": {
      "needs_background": "light"
     },
     "output_type": "display_data"
    }
   ],
   "source": [
    "plt.plot(v_epochs, v_loss, label='MSE Vanilla')\n",
    "plt.scatter(v_epochs, v_loss, label='MSE Vanilla')\n",
    "plt.title(\"MSE Plot Vanilla Update\")\n",
    "plt.xlabel(\"Epoch\")\n",
    "plt.ylabel(\"MSE\")\n",
    "plt.legend()\n",
    "plt.show()"
   ]
  },
  {
   "cell_type": "markdown",
   "metadata": {},
   "source": [
    "## Observations:\n",
    "\n",
    "- we can see that vanilla update formula takes more number of epochs to converge \n",
    "- the loss gradually decreases but converges in the end"
   ]
  },
  {
   "cell_type": "code",
   "execution_count": 20,
   "metadata": {
    "scrolled": false
   },
   "outputs": [],
   "source": [
    "### SGD with Vanilla Optimization def sgd_momentum(x, y, epoch, learning_rate, mu):\n",
    "    w = [np.random.uniform(-0.01, 0.01) for i in range(9)]\n",
    "    v = [0 for i in range(9)]\n",
    "    our_loss = []\n",
    "    epoch_ls = []\n",
    "    for i in range(epoch):\n",
    "        epoch_ls.append(i)\n",
    "        w_o = w\n",
    "        v_o = v\n",
    "        epoch_y_pred = []\n",
    "        \n",
    "        for j in range(len(x)):\n",
    "            loss, my_dict, my_y_pred = sgd_forward_prop(x[j], y[j], w_o)\n",
    "            epoch_y_pred.append(my_y_pred)\n",
    "            my_grad = sgd_backward_prop(my_dict)\n",
    "            \n",
    "            for k in range(len(w)):\n",
    "                v[k] = mu * v_o[k] - learning_rate * my_grad[k] \n",
    "                w[k] += v[k]\n",
    "            \n",
    "\n",
    "        epoch_loss = mse(y, epoch_y_pred)\n",
    "        our_loss.append(epoch_loss)\n",
    "#         print('Epoch: {0}, loss: {1}'.format(i, epoch_loss))\n",
    "                \n",
    "    return w, our_loss, epoch_ls"
   ]
  },
  {
   "cell_type": "markdown",
   "metadata": {},
   "source": [
    "### SGD with momentum Optimization "
   ]
  },
  {
   "cell_type": "code",
   "execution_count": 21,
   "metadata": {},
   "outputs": [],
   "source": [
    "momentum_w, momentum_loss, momentum_epoch = sgd_momentum(X, y, 15, 0.0001, 0.9)"
   ]
  },
  {
   "cell_type": "code",
   "execution_count": 22,
   "metadata": {},
   "outputs": [
    {
     "data": {
      "image/png": "[encoded data removed]",
      "text/plain": [
       "<Figure size 432x288 with 1 Axes>"
      ]
     },
     "metadata": {
      "needs_background": "light"
     },
     "output_type": "display_data"
    }
   ],
   "source": [
    "plt.plot(momentum_epoch,momentum_loss, label='MSE Momentum')\n",
    "plt.scatter(momentum_epoch,momentum_loss,label='MSE Momentum')\n",
    "plt.title(\"MSE Plot Momentum Update\")\n",
    "plt.xlabel(\"Epoch\")\n",
    "plt.ylabel(\"MSE\")\n",
    "plt.legend()\n",
    "plt.show()"
   ]
  },
  {
   "cell_type": "markdown",
   "metadata": {},
   "source": [
    "## Observations:\n",
    "\n",
    "- momentum loss, drops very quickly as compared to vanilla loss\n",
    "- it takes very less epochs as well to converge "
   ]
  },
  {
   "cell_type": "code",
   "execution_count": 23,
   "metadata": {
    "scrolled": false
   },
   "outputs": [],
   "source": [
    "def sgd_adam(x, y, epoch, learning_rate, beta1, beta2, eps):\n",
    "    w = [np.random.uniform(-0.01, 0.01) for i in range(9)]\n",
    "    v = [0 for i in range(9)]\n",
    "    m = [0 for i in range(9)]\n",
    "    our_loss = []\n",
    "    epoch_ls = []\n",
    "    for i in range(epoch):\n",
    "        epoch_ls.append(i)\n",
    "        w_o = w\n",
    "        v_o = v\n",
    "        m_o = m\n",
    "        epoch_y_pred = []\n",
    "        \n",
    "        for j in range(len(x)):\n",
    "            loss, my_dict, my_y_pred = sgd_forward_prop(x[j], y[j], w_o)\n",
    "            epoch_y_pred.append(my_y_pred)\n",
    "            my_grad = sgd_backward_prop(my_dict)\n",
    "            \n",
    "            for k in range(len(w)):\n",
    "                m[k] = beta1 * m_o[k] + (1-beta1)* my_grad[k]\n",
    "                v[k] = beta2 * v_o[k] + (1-beta2) * (my_grad[k]**2) \n",
    "                w[k] += -learning_rate * m[k] / (np.sqrt(v[k]) + eps)\n",
    "                \n",
    "                \n",
    "        epoch_loss = mse(y, epoch_y_pred)\n",
    "        our_loss.append(epoch_loss)\n",
    "#         print('Epoch: {0}, loss: {1}'.format(i, epoch_loss))\n",
    "                \n",
    "    return w, our_loss, epoch_ls "
   ]
  },
  {
   "cell_type": "markdown",
   "metadata": {},
   "source": [
    "### SGD with Adam Optimization "
   ]
  },
  {
   "cell_type": "code",
   "execution_count": 24,
   "metadata": {
    "scrolled": false
   },
   "outputs": [],
   "source": [
    "adam_w, adam_loss, adam_epoch = sgd_adam(X, y, 30, 0.0001, 0.9, 0.999, 0.00000001)"
   ]
  },
  {
   "cell_type": "code",
   "execution_count": 25,
   "metadata": {},
   "outputs": [
    {
     "data": {
      "image/png": "[encoded data removed]",
      "text/plain": [
       "<Figure size 432x288 with 1 Axes>"
      ]
     },
     "metadata": {
      "needs_background": "light"
     },
     "output_type": "display_data"
    }
   ],
   "source": [
    "plt.plot(adam_epoch, adam_loss, label='MSE Adam')\n",
    "plt.scatter(adam_epoch, adam_loss,label='MSE Adam')\n",
    "plt.title(\"MSE Plot Adam Update\")\n",
    "plt.xlabel(\"Epoch\")\n",
    "plt.ylabel(\"MSE\")\n",
    "plt.legend()\n",
    "plt.show()"
   ]
  },
  {
   "cell_type": "markdown",
   "metadata": {},
   "source": [
    "## Observations:\n",
    "\n",
    "- smoothest one till now is adam's loss\n",
    "- it creates a perfect loss curve and converges in 30 epochs\n"
   ]
  },
  {
   "cell_type": "markdown",
   "metadata": {},
   "source": [
    "## Conclusions\n",
    "\n",
    "- we can see that momentum loss takes lesser epochs than vanilla and adam's\n",
    "- the quickest loss reduction and convergence happens in momentum update formula"
   ]
  },
  {
   "cell_type": "markdown",
   "metadata": {},
   "source": [
    "## Links\n",
    "\n",
    "- These are some links which you should go through before doing all the above steps\n",
    "- it will help with your understanding and help you do it faster\n",
    "- Note that, everything here has been done from scratch and it's for deeper understanding\n",
    "- where as in real world you can use tensorflow and keras to do all the work\n",
    "\n",
    "- https://www.youtube.com/watch?v=i94OvYb6noo#t=1m33s\n",
    "\n",
    "- https://towardsdatascience.com/how-to-debug-a-neural-network-with-gradient-checking-41deec0357a9\n",
    "\n",
    "- https://www.youtube.com/watch?v=gYpoJMlgyXA\n",
    "\n",
    "- http://cs231n.github.io/neural-networks-3/"
   ]
  }
 ],
 "metadata": {
  "kernelspec": {
   "display_name": "Python 3",
   "language": "python",
   "name": "python3"
  },
  "language_info": {
   "codemirror_mode": {
    "name": "ipython",
    "version": 3
   },
   "file_extension": ".py",
   "mimetype": "text/x-python",
   "name": "python",
   "nbconvert_exporter": "python",
   "pygments_lexer": "ipython3",
   "version": "3.7.3"
  }
 },
 "nbformat": 4,
 "nbformat_minor": 2
}
